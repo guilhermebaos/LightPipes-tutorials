{
 "cells": [
  {
   "cell_type": "markdown",
   "metadata": {},
   "source": [
    "# Imports"
   ]
  },
  {
   "cell_type": "code",
   "execution_count": 1,
   "metadata": {},
   "outputs": [],
   "source": [
    "import LightPipes as lp\n",
    "import numpy as np\n",
    "import matplotlib.pyplot as plt"
   ]
  },
  {
   "cell_type": "markdown",
   "metadata": {},
   "source": [
    "# Functions"
   ]
  },
  {
   "cell_type": "code",
   "execution_count": 2,
   "metadata": {},
   "outputs": [],
   "source": [
    "def plot_Field(Field: lp.field.Field, cmap=\"jet\", title=\"Field\") -> None:\n",
    "    \"\"\"\n",
    "        Given an intensity array I and the extent (in mm) of the image, plot it and its intensity through the middle.\n",
    "    \"\"\"\n",
    "    # Get the intensity\n",
    "    I = lp.Intensity(Field, flag=0)\n",
    "\n",
    "    # Get the size\n",
    "    size = Field.siz\n",
    "\n",
    "    # Array size\n",
    "    N = Field.N\n",
    "\n",
    "    # Setup subplots\n",
    "    cols = 2\n",
    "    rows = 1\n",
    "    plt.figure(figsize=(6 * cols, 5 * rows))\n",
    "\n",
    "    # Plot the field image\n",
    "    plt.subplot(rows, cols, 1)\n",
    "    plt.imshow(I, extent=(0, size / lp.mm, 0, size / lp.mm), cmap=cmap)\n",
    "    plt.colorbar()\n",
    "    plt.title(title + f\" N={N}\")\n",
    "    plt.xlabel('Position (mm)')\n",
    "    plt.ylabel('Position (mm)')\n",
    "\n",
    "    # Plot the field Intensity\n",
    "    plt.subplot(rows, cols, 2)\n",
    "    xx = (np.arange(N)/N * size - (size / 2))\n",
    "\n",
    "    plt.plot(xx * (1/lp.mm), I[N//2], label=\"Simulation\")\n",
    "    plt.title(\"Intensity profile through the center\")\n",
    "    plt.xlabel(\"x position (mm)\")\n",
    "    plt.ylabel(\"Intensity (a.u.)\")\n",
    "    plt.grid(\"on\")"
   ]
  },
  {
   "cell_type": "markdown",
   "metadata": {},
   "source": [
    "# Gaussian Beam and Second Pass Through a Lens"
   ]
  },
  {
   "cell_type": "code",
   "execution_count": 5,
   "metadata": {},
   "outputs": [],
   "source": [
    "# Parameters\n",
    "size = 40 * lp.mm # size of the grid\n",
    "wave = 632.8 * lp.nm # wavelength of HeNe laser\n",
    "N = 2048 # number (NxN) of grid pixels\n",
    "h = size / N\n",
    "\n",
    "k = 2 * np.pi / wave\n",
    "\n",
    "# Laser Beam\n",
    "w0 = 5 * lp.mm # laser beam waist\n",
    "\n",
    "# Parameters\n",
    "d1 = 10 * lp.m # distance from the lens to 0\n",
    "f = 10 * lp.m # focal length of the lens\n",
    "d2 = 10 * lp.m # distance from the lens to the detection plane\n",
    "\n",
    "\n",
    "# Create the beam\n",
    "Field = lp.Begin(size, wave, N)\n",
    "Field = lp.GaussBeam(Field, w0)\n",
    "plot_Field(Field, title=\"Field at the start\")\n",
    "\n",
    "# Propagate the laser some distance\n",
    "Field = lp.Forvard(Field, d1)\n",
    "plot_Field(Field, title=\"Field just before the lens\")\n",
    "\n",
    "\n",
    "# Pass the beam through the lens and propagate up to the focus\n",
    "Field = lp.Lens(Field, f)\n",
    "Field = lp.Forvard(Field, f)\n",
    "plot_Field(Field, title=\"Field after lens and some propagation\")\n",
    "\n",
    "\n",
    "# \"Reflect\" the beam and propagate back to the lens\n",
    "Field = lp.Forvard(Field, f)\n",
    "plot_Field(Field, title=\"Field just before the lens\")\n",
    "\n",
    "\n",
    "# Propagate to the detection plane\n",
    "Field = lp.Lens(Field, f)\n",
    "Field = lp.Forvard(Field, d1)\n",
    "plot_Field(Field, title=\"Field at the detection plane\")\n",
    "\n",
    "\n",
    "# Predict the beam using the beam parameter\n",
    "I = lp.Intensity(Field, flag=0)\n",
    "Imax = np.max(I[N//2])\n",
    "\n",
    "# ABCD matriz of the propagtion -> lens -> propagation -> lens -> propagation\n",
    "prop1 = np.array([[1, d1], [0, 1]])\n",
    "prop2 = np.array([[1, f], [0, 1]])\n",
    "lens = np.array([[1, 0], [-1/f, 1]])\n",
    "\n",
    "ABCD = prop1 @ (lens @ (prop2 @ (prop2 @ (lens @ prop1))))\n",
    "\n",
    "\n",
    "# Beam parameter calculated using ABCD matrices\n",
    "q0 = 1j * np.pi * w0**2 / wave\n",
    "qz = (ABCD[0, 0] * q0 + ABCD[0, 1]) / (ABCD[1, 0] * q0 + ABCD[1, 1])\n",
    "\n",
    "# Beam parameter through the lens\n",
    "xx = np.arange(N)/N * size - (size / 2)\n",
    "yy = Imax * np.abs(np.exp((-1j * k * xx**2) / (2 * qz)))**2\n",
    "\n",
    "plt.plot(xx / lp.mm, yy, label=\"Prediction\")\n",
    "plt.legend()\n",
    "plt.show()\n",
    "\n",
    "\n",
    "# Compare with starting field\n",
    "Field = lp.Begin(size, wave, N)\n",
    "Field = lp.GaussBeam(Field, w0)\n",
    "plot_Field(Field, title=\"Field at the start\")\n",
    "plt.plot(xx / lp.mm, yy, label=\"Prediction\")\n",
    "plt.legend()\n",
    "plt.show()"
   ]
  },
  {
   "cell_type": "code",
   "execution_count": null,
   "metadata": {},
   "outputs": [],
   "source": []
  }
 ],
 "metadata": {
  "kernelspec": {
   "display_name": "venv",
   "language": "python",
   "name": "python3"
  },
  "language_info": {
   "codemirror_mode": {
    "name": "ipython",
    "version": 3
   },
   "file_extension": ".py",
   "mimetype": "text/x-python",
   "name": "python",
   "nbconvert_exporter": "python",
   "pygments_lexer": "ipython3",
   "version": "3.12.0"
  }
 },
 "nbformat": 4,
 "nbformat_minor": 2
}
